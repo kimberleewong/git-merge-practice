{
  "cells": [
    {
      "cell_type": "raw",
      "metadata": {},
      "source": [
        "---\n",
        "title: \"Practice \"\n",
        "format: html\n",
        "---"
      ],
      "id": "63f8e13b"
    },
    {
      "cell_type": "markdown",
      "metadata": {},
      "source": [
        "# Testing merge conflicts\n",
        "\n",
        "Start by importing the required packages:\n"
      ],
      "id": "0934ebf5"
    },
    {
      "cell_type": "code",
      "metadata": {},
      "source": [
        "import pandas as pd"
      ],
      "id": "6780d6e7",
      "execution_count": null,
      "outputs": []
    },
    {
      "cell_type": "markdown",
      "metadata": {},
      "source": [
        "Let's create a sample dataset to work with:\n"
      ],
      "id": "dee3f1d9"
    },
    {
      "cell_type": "code",
      "metadata": {},
      "source": [
        "# Create Star Wars DataFrame\n",
        "star_wars_df = pd.DataFrame({\n",
        "    \"name\": [\"Luke Skywalker\", \"Darth Vader\", \"Leia Organa\", \"Han Solo\", \"Yoda\", \"Chewbacca\"],\n",
        "    \"height\": [172, 202, 150, 180, 66, 228],\n",
        "    \"mass\": [77, 136, 49, 80, 17, 112],\n",
        "    \"species\": [\"Human\", \"Human\", \"Human\", \"Human\", \"Yoda's species\", \"Wookiee\"]\n",
        "})\n",
        "star_wars_df"
      ],
      "id": "c93a94a4",
      "execution_count": null,
      "outputs": []
    },
    {
      "cell_type": "markdown",
      "metadata": {},
      "source": [
        "And do something with it:\n"
      ],
      "id": "a9efe8fb"
    },
    {
      "cell_type": "code",
      "metadata": {},
      "source": [
        "# Your code goes here"
      ],
      "id": "2f56a81b",
      "execution_count": null,
      "outputs": []
    }
  ],
  "metadata": {
    "kernelspec": {
      "display_name": "Python 3",
      "language": "python",
      "name": "python3"
    }
  },
  "nbformat": 4,
  "nbformat_minor": 5
}